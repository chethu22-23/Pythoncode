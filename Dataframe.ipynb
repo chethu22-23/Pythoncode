{
 "cells": [
  {
   "cell_type": "code",
   "execution_count": 1,
   "id": "12083dec",
   "metadata": {},
   "outputs": [
    {
     "name": "stdout",
     "output_type": "stream",
     "text": [
      "  first Name last name                type      department  YoE  salary\n",
      "0      aryan     singh  full-time employee  administration    2   20000\n",
      "1      rohan   agarwal              insane       technical    3    5000\n",
      "2  siddhanth    khanna  full-time employee      management    6   20000\n",
      "3       yash    bhatia  part-time employee       technical    7   10000\n"
     ]
    }
   ],
   "source": [
    "\n",
    "import pandas as pd\n",
    "data = {'first Name': ['aryan', 'rohan', 'siddhanth', 'yash'],\n",
    "        'last name': ['singh','agarwal','khanna','bhatia'],\n",
    "       'type': ['full-time employee','insane','full-time employee','part-time employee'],\n",
    "       'department': ['administration','technical','management','technical'],\n",
    "       'YoE': [2,3,6,7],\n",
    "       'salary':[20000,5000,20000,10000]}\n",
    "df = pd.DataFrame(data)\n",
    "print(df)\n"
   ]
  },
  {
   "cell_type": "code",
   "execution_count": null,
   "id": "c6449ff0",
   "metadata": {},
   "outputs": [],
   "source": []
  }
 ],
 "metadata": {
  "kernelspec": {
   "display_name": "Python 3 (ipykernel)",
   "language": "python",
   "name": "python3"
  },
  "language_info": {
   "codemirror_mode": {
    "name": "ipython",
    "version": 3
   },
   "file_extension": ".py",
   "mimetype": "text/x-python",
   "name": "python",
   "nbconvert_exporter": "python",
   "pygments_lexer": "ipython3",
   "version": "3.11.4"
  }
 },
 "nbformat": 4,
 "nbformat_minor": 5
}
