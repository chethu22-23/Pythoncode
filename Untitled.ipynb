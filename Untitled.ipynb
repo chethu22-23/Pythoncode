{
 "cells": [
  {
   "cell_type": "code",
   "execution_count": null,
   "id": "b5e7c04b",
   "metadata": {},
   "outputs": [],
   "source": [
    "# Python code demonstrate creating\n",
    "# pandas DataFrame with indexed by\n",
    "\n",
    "# DataFrame using arrays.\n",
    "import pandas as pd\n",
    "\n",
    "# initialize data of lists.\n",
    "data = {'Name': ['Tom', 'Jack', 'nick', 'juli'],'marks': [99, 98, 95, 90]}\n",
    "\n",
    "# Creates pandas DataFrame.\n",
    "df = pd.DataFrame(data, index=['rank1',\n",
    "                                'rank2',\n",
    "                                'rank3',\n",
    "                                'rank4'])\n",
    "\n",
    "# print the data\n",
    "df\n"
   ]
  }
 ],
 "metadata": {
  "kernelspec": {
   "display_name": "Python 3 (ipykernel)",
   "language": "python",
   "name": "python3"
  },
  "language_info": {
   "codemirror_mode": {
    "name": "ipython",
    "version": 3
   },
   "file_extension": ".py",
   "mimetype": "text/x-python",
   "name": "python",
   "nbconvert_exporter": "python",
   "pygments_lexer": "ipython3",
   "version": "3.11.4"
  }
 },
 "nbformat": 4,
 "nbformat_minor": 5
}
