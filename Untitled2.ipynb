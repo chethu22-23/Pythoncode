{
 "cells": [
  {
   "cell_type": "code",
   "execution_count": 5,
   "id": "79e0bafe",
   "metadata": {},
   "outputs": [
    {
     "name": "stdout",
     "output_type": "stream",
     "text": [
      "0    1\n",
      "1    2\n",
      "2    3\n",
      "5    6\n",
      "6    7\n",
      "7    8\n",
      "dtype: int64\n"
     ]
    }
   ],
   "source": [
    "import pandas as pd \n",
    "import numpy as np\n",
    "  \n",
    "# create the series \n",
    "ser1 = pd.Series([1, 2, 3, 4, 5])\n",
    "ser2 = pd.Series([4, 5, 6, 7, 8])\n",
    "  \n",
    "# union of the series\n",
    "union = pd.Series(np.union1d(ser1, ser2))\n",
    "  \n",
    "# intersection of the series\n",
    "intersect = pd.Series(np.intersect1d(ser1, ser2))\n",
    "  \n",
    "# uncommon elements in both the series \n",
    "notcommonseries = union[~union.isin(intersect)]\n",
    "  \n",
    "# displaying the result\n",
    "print(notcommonseries)\n"
   ]
  },
  {
   "cell_type": "code",
   "execution_count": null,
   "id": "183da1e6",
   "metadata": {},
   "outputs": [],
   "source": []
  },
  {
   "cell_type": "code",
   "execution_count": null,
   "id": "35f60a22",
   "metadata": {},
   "outputs": [],
   "source": [
    "import pandas as pd\n",
    "dict = {'first name':[\"aryan\", \"rohan\", \"riya\", \"yash\" , \"siddhant\"],\n",
    "        'last name': [\"singh\", \"agarwal\", \"shah\", \"bhatia\"],\n",
    "        'score':[90, 40, 80, 98]}\n",
    "\n",
    "df = pd.DataFrame(dict)\n",
    "\n",
    "print(df)\n"
   ]
  }
 ],
 "metadata": {
  "kernelspec": {
   "display_name": "Python 3 (ipykernel)",
   "language": "python",
   "name": "python3"
  },
  "language_info": {
   "codemirror_mode": {
    "name": "ipython",
    "version": 3
   },
   "file_extension": ".py",
   "mimetype": "text/x-python",
   "name": "python",
   "nbconvert_exporter": "python",
   "pygments_lexer": "ipython3",
   "version": "3.11.3"
  }
 },
 "nbformat": 4,
 "nbformat_minor": 5
}
