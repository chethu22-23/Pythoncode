{
 "cells": [
  {
   "cell_type": "code",
   "execution_count": 1,
   "id": "39c7432a",
   "metadata": {},
   "outputs": [
    {
     "name": "stdout",
     "output_type": "stream",
     "text": [
      "      Name  Age           City\n",
      "0    Alice   25        NewYork\n",
      "1      Bob   32  San Francisco\n",
      "2  Charlie   28    Los Angeles\n",
      "3    David   49        Chicago\n",
      "4      Eve   29          Miami\n"
     ]
    }
   ],
   "source": [
    "import pandas as pd\n",
    "names=pd.Series(['Alice','Bob','Charlie','David','Eve'])\n",
    "ages=pd.Series([25,32,28,49,29])\n",
    "cities=pd.Series(['NewYork','San Francisco','Los Angeles','Chicago','Miami'])\n",
    "data={'Name':names,\n",
    "      'Age':ages,\n",
    "      'City':cities}\n",
    "df=pd.DataFrame(data)\n",
    "print(df)"
   ]
  },
  {
   "cell_type": "code",
   "execution_count": 2,
   "id": "a5430913",
   "metadata": {},
   "outputs": [
    {
     "name": "stdout",
     "output_type": "stream",
     "text": [
      "      Name  Age           City\n",
      "0    Alice   25        NewYork\n",
      "1      Bob   32  San Francisco\n",
      "2  Charlie   28    Los Angeles\n",
      "3    David   49        Chicago\n",
      "4      Eve   29          Miami\n"
     ]
    }
   ],
   "source": [
    "print(df)"
   ]
  },
  {
   "cell_type": "code",
   "execution_count": 8,
   "id": "8ff6b243",
   "metadata": {},
   "outputs": [
    {
     "name": "stdout",
     "output_type": "stream",
     "text": [
      "0      Alice\n",
      "1        Bob\n",
      "2    Charlie\n",
      "3      David\n",
      "4        Eve\n",
      "Name: Name, dtype: object\n",
      "      Name  Age\n",
      "0    Alice   25\n",
      "1      Bob   32\n",
      "2  Charlie   28\n",
      "3    David   49\n",
      "4      Eve   29\n",
      "      Name  Age           City  salary\n",
      "0    Alice   25        NewYork   60000\n",
      "1      Bob   32  San Francisco   80000\n",
      "2  Charlie   28    Los Angeles   70000\n",
      "3    David   49        Chicago   90000\n",
      "4      Eve   29          Miami   75000\n"
     ]
    }
   ],
   "source": [
    "print(df['Name'])\n",
    "print(df[['Name','Age']])\n",
    "df['salary']=[60000,80000,70000,90000,75000]\n",
    "print(df)"
   ]
  },
  {
   "cell_type": "code",
   "execution_count": 10,
   "id": "9af503a8",
   "metadata": {},
   "outputs": [
    {
     "name": "stdout",
     "output_type": "stream",
     "text": [
      "      Name  Age         City  salary\n",
      "0    Alice   25      NewYork   60000\n",
      "2  Charlie   28  Los Angeles   70000\n",
      "4      Eve   29        Miami   75000\n"
     ]
    }
   ],
   "source": [
    "Young_people=df[df['Age']<30]\n",
    "print(Young_people)"
   ]
  },
  {
   "cell_type": "raw",
   "id": "cdf44cb0",
   "metadata": {},
   "source": []
  },
  {
   "cell_type": "code",
   "execution_count": 11,
   "id": "eacaf732",
   "metadata": {},
   "outputs": [
    {
     "name": "stdout",
     "output_type": "stream",
     "text": [
      "      Name  Age           City  salary\n",
      "0    Alice   25        NewYork   60000\n",
      "2  Charlie   28    Los Angeles   70000\n",
      "4      Eve   29          Miami   75000\n",
      "1      Bob   32  San Francisco   80000\n",
      "3    David   49        Chicago   90000\n"
     ]
    }
   ],
   "source": [
    "sorted_df=df.sort_values(by='Age')\n",
    "print(sorted_df)"
   ]
  },
  {
   "cell_type": "code",
   "execution_count": 12,
   "id": "5806b821",
   "metadata": {},
   "outputs": [
    {
     "name": "stdout",
     "output_type": "stream",
     "text": [
      "0    10\n",
      "1    20\n",
      "2    30\n",
      "5    60\n",
      "6    70\n",
      "7    80\n",
      "dtype: int32\n"
     ]
    }
   ],
   "source": [
    "import pandas as pd\n",
    "import numpy as np\n",
    "Series_A=[10,20,30,40,50]\n",
    "Series_B=[40,50,60,70,80]\n",
    "union=pd.Series(np.union1d(Series_A,Series_B))\n",
    "intersect=pd.Series(np.intersect1d(Series_A,Series_B))\n",
    "notcommonSeries=union[~union.isin(intersect)]\n",
    "print(notcommonSeries)"
   ]
  },
  {
   "cell_type": "code",
   "execution_count": null,
   "id": "395b01cd",
   "metadata": {},
   "outputs": [],
   "source": []
  }
 ],
 "metadata": {
  "kernelspec": {
   "display_name": "Python 3 (ipykernel)",
   "language": "python",
   "name": "python3"
  },
  "language_info": {
   "codemirror_mode": {
    "name": "ipython",
    "version": 3
   },
   "file_extension": ".py",
   "mimetype": "text/x-python",
   "name": "python",
   "nbconvert_exporter": "python",
   "pygments_lexer": "ipython3",
   "version": "3.11.4"
  }
 },
 "nbformat": 4,
 "nbformat_minor": 5
}
