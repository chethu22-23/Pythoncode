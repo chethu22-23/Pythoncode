{
 "cells": [
  {
   "cell_type": "code",
   "execution_count": 2,
   "id": "09d36a53",
   "metadata": {},
   "outputs": [
    {
     "data": {
      "text/html": [
       "<div>\n",
       "<style scoped>\n",
       "    .dataframe tbody tr th:only-of-type {\n",
       "        vertical-align: middle;\n",
       "    }\n",
       "\n",
       "    .dataframe tbody tr th {\n",
       "        vertical-align: top;\n",
       "    }\n",
       "\n",
       "    .dataframe thead th {\n",
       "        text-align: right;\n",
       "    }\n",
       "</style>\n",
       "<table border=\"1\" class=\"dataframe\">\n",
       "  <thead>\n",
       "    <tr style=\"text-align: right;\">\n",
       "      <th></th>\n",
       "      <th>day_number</th>\n",
       "      <th>steps_walked</th>\n",
       "    </tr>\n",
       "  </thead>\n",
       "  <tbody>\n",
       "    <tr>\n",
       "      <th>0</th>\n",
       "      <td>1</td>\n",
       "      <td>4335</td>\n",
       "    </tr>\n",
       "    <tr>\n",
       "      <th>1</th>\n",
       "      <td>2</td>\n",
       "      <td>9552</td>\n",
       "    </tr>\n",
       "    <tr>\n",
       "      <th>2</th>\n",
       "      <td>3</td>\n",
       "      <td>7332</td>\n",
       "    </tr>\n",
       "    <tr>\n",
       "      <th>3</th>\n",
       "      <td>4</td>\n",
       "      <td>4504</td>\n",
       "    </tr>\n",
       "    <tr>\n",
       "      <th>4</th>\n",
       "      <td>5</td>\n",
       "      <td>5335</td>\n",
       "    </tr>\n",
       "    <tr>\n",
       "      <th>5</th>\n",
       "      <td>6</td>\n",
       "      <td>7552</td>\n",
       "    </tr>\n",
       "    <tr>\n",
       "      <th>6</th>\n",
       "      <td>7</td>\n",
       "      <td>8332</td>\n",
       "    </tr>\n",
       "    <tr>\n",
       "      <th>7</th>\n",
       "      <td>8</td>\n",
       "      <td>6504</td>\n",
       "    </tr>\n",
       "    <tr>\n",
       "      <th>8</th>\n",
       "      <td>9</td>\n",
       "      <td>8965</td>\n",
       "    </tr>\n",
       "    <tr>\n",
       "      <th>9</th>\n",
       "      <td>10</td>\n",
       "      <td>7689</td>\n",
       "    </tr>\n",
       "  </tbody>\n",
       "</table>\n",
       "</div>"
      ],
      "text/plain": [
       "   day_number  steps_walked\n",
       "0           1          4335\n",
       "1           2          9552\n",
       "2           3          7332\n",
       "3           4          4504\n",
       "4           5          5335\n",
       "5           6          7552\n",
       "6           7          8332\n",
       "7           8          6504\n",
       "8           9          8965\n",
       "9          10          7689"
      ]
     },
     "execution_count": 2,
     "metadata": {},
     "output_type": "execute_result"
    }
   ],
   "source": [
    "import pandas as pd\n",
    "arr={'day_number':[1,2,3,4,5,6,7,8,9,10,],'steps_walked':[4335,9552,7332,4504,5335,7552,8332,6504,8965,7689]}\n",
    "df=pd.Dataframe(arr)\n",
    "df\n",
    "                "
   ]
  },
  {
   "cell_type": "raw",
   "id": "eaf91579",
   "metadata": {},
   "source": []
  },
  {
   "cell_type": "raw",
   "id": "02b9e80e",
   "metadata": {},
   "source": []
  },
  {
   "cell_type": "code",
   "execution_count": 3,
   "id": "25e699fa",
   "metadata": {},
   "outputs": [
    {
     "name": "stdout",
     "output_type": "stream",
     "text": [
      "0     6335\n",
      "1    11552\n",
      "2     9332\n",
      "3     6504\n",
      "4     7335\n",
      "5     9552\n",
      "6    10332\n",
      "7     8504\n",
      "8    10965\n",
      "9     9689\n",
      "Name: steps_walked, dtype: int64\n"
     ]
    }
   ],
   "source": [
    "arr['steps_walked']=df['steps_walked']+2000\n",
    "print(arr['steps_walked'])\n"
   ]
  },
  {
   "cell_type": "code",
   "execution_count": 7,
   "id": "1eb36ec4",
   "metadata": {},
   "outputs": [
    {
     "name": "stdout",
     "output_type": "stream",
     "text": [
      "   day_number  steps_walked\n",
      "1           2          9552\n"
     ]
    }
   ],
   "source": [
    "matched=df.loc[df['steps_walked'] > 9000]\n",
    "print(matched)\n"
   ]
  },
  {
   "cell_type": "code",
   "execution_count": null,
   "id": "0ff3139b",
   "metadata": {},
   "outputs": [],
   "source": [
    " "
   ]
  }
 ],
 "metadata": {
  "kernelspec": {
   "display_name": "Python 3 (ipykernel)",
   "language": "python",
   "name": "python3"
  },
  "language_info": {
   "codemirror_mode": {
    "name": "ipython",
    "version": 3
   },
   "file_extension": ".py",
   "mimetype": "text/x-python",
   "name": "python",
   "nbconvert_exporter": "python",
   "pygments_lexer": "ipython3",
   "version": "3.11.3"
  }
 },
 "nbformat": 4,
 "nbformat_minor": 5
}
